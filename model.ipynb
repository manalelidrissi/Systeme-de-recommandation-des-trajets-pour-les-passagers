{
 "cells": [
  {
   "cell_type": "code",
   "execution_count": 1,
   "metadata": {},
   "outputs": [],
   "source": [
    "import pandas as pd\n",
    "import numpy as np"
   ]
  },
  {
   "cell_type": "code",
   "execution_count": 15,
   "metadata": {},
   "outputs": [],
   "source": [
    "trips = pd.read_csv('dataset/dataset.csv',delimiter=';')\n",
    "users = pd.read_csv('dataset/users.csv',delimiter=';')\n",
    "history = pd.read_csv('dataset/history.csv',delimiter=';')"
   ]
  },
  {
   "cell_type": "code",
   "execution_count": 14,
   "metadata": {},
   "outputs": [
    {
     "data": {
      "text/html": [
       "<div>\n",
       "<style scoped>\n",
       "    .dataframe tbody tr th:only-of-type {\n",
       "        vertical-align: middle;\n",
       "    }\n",
       "\n",
       "    .dataframe tbody tr th {\n",
       "        vertical-align: top;\n",
       "    }\n",
       "\n",
       "    .dataframe thead th {\n",
       "        text-align: right;\n",
       "    }\n",
       "</style>\n",
       "<table border=\"1\" class=\"dataframe\">\n",
       "  <thead>\n",
       "    <tr style=\"text-align: right;\">\n",
       "      <th></th>\n",
       "      <th>id</th>\n",
       "      <th>age</th>\n",
       "      <th>sex</th>\n",
       "      <th>profition</th>\n",
       "    </tr>\n",
       "  </thead>\n",
       "  <tbody>\n",
       "    <tr>\n",
       "      <th>0</th>\n",
       "      <td>1</td>\n",
       "      <td>24</td>\n",
       "      <td>M</td>\n",
       "      <td>technician</td>\n",
       "    </tr>\n",
       "    <tr>\n",
       "      <th>1</th>\n",
       "      <td>2</td>\n",
       "      <td>53</td>\n",
       "      <td>F</td>\n",
       "      <td>other</td>\n",
       "    </tr>\n",
       "    <tr>\n",
       "      <th>2</th>\n",
       "      <td>3</td>\n",
       "      <td>23</td>\n",
       "      <td>M</td>\n",
       "      <td>writer</td>\n",
       "    </tr>\n",
       "    <tr>\n",
       "      <th>3</th>\n",
       "      <td>4</td>\n",
       "      <td>24</td>\n",
       "      <td>M</td>\n",
       "      <td>technician</td>\n",
       "    </tr>\n",
       "    <tr>\n",
       "      <th>4</th>\n",
       "      <td>5</td>\n",
       "      <td>33</td>\n",
       "      <td>F</td>\n",
       "      <td>other</td>\n",
       "    </tr>\n",
       "  </tbody>\n",
       "</table>\n",
       "</div>"
      ],
      "text/plain": [
       "   id  age sex   profition\n",
       "0   1   24   M  technician\n",
       "1   2   53   F       other\n",
       "2   3   23   M      writer\n",
       "3   4   24   M  technician\n",
       "4   5   33   F       other"
      ]
     },
     "execution_count": 14,
     "metadata": {},
     "output_type": "execute_result"
    }
   ],
   "source": [
    "users.head()"
   ]
  },
  {
   "cell_type": "code",
   "execution_count": 13,
   "metadata": {},
   "outputs": [
    {
     "data": {
      "text/html": [
       "<div>\n",
       "<style scoped>\n",
       "    .dataframe tbody tr th:only-of-type {\n",
       "        vertical-align: middle;\n",
       "    }\n",
       "\n",
       "    .dataframe tbody tr th {\n",
       "        vertical-align: top;\n",
       "    }\n",
       "\n",
       "    .dataframe thead th {\n",
       "        text-align: right;\n",
       "    }\n",
       "</style>\n",
       "<table border=\"1\" class=\"dataframe\">\n",
       "  <thead>\n",
       "    <tr style=\"text-align: right;\">\n",
       "      <th></th>\n",
       "      <th>id</th>\n",
       "      <th>company</th>\n",
       "      <th>from_lat</th>\n",
       "      <th>from_lan</th>\n",
       "      <th>to_lat</th>\n",
       "      <th>to_lan</th>\n",
       "      <th>distance</th>\n",
       "      <th>depart</th>\n",
       "      <th>duration</th>\n",
       "      <th>driver_sex</th>\n",
       "      <th>driver_age</th>\n",
       "      <th>price</th>\n",
       "    </tr>\n",
       "  </thead>\n",
       "  <tbody>\n",
       "    <tr>\n",
       "      <th>0</th>\n",
       "      <td>0</td>\n",
       "      <td>1</td>\n",
       "      <td>33.369975</td>\n",
       "      <td>-7.587912</td>\n",
       "      <td>34.229627</td>\n",
       "      <td>-6.528318</td>\n",
       "      <td>136.873942</td>\n",
       "      <td>07:50</td>\n",
       "      <td>47.0</td>\n",
       "      <td>1</td>\n",
       "      <td>0</td>\n",
       "      <td>66.0</td>\n",
       "    </tr>\n",
       "    <tr>\n",
       "      <th>1</th>\n",
       "      <td>1</td>\n",
       "      <td>1</td>\n",
       "      <td>33.369975</td>\n",
       "      <td>-7.587912</td>\n",
       "      <td>34.229627</td>\n",
       "      <td>-6.528318</td>\n",
       "      <td>136.873942</td>\n",
       "      <td>07:50</td>\n",
       "      <td>90.0</td>\n",
       "      <td>1</td>\n",
       "      <td>0</td>\n",
       "      <td>50.0</td>\n",
       "    </tr>\n",
       "    <tr>\n",
       "      <th>2</th>\n",
       "      <td>2</td>\n",
       "      <td>1</td>\n",
       "      <td>33.369975</td>\n",
       "      <td>-7.587912</td>\n",
       "      <td>34.229627</td>\n",
       "      <td>-6.528318</td>\n",
       "      <td>136.873942</td>\n",
       "      <td>11:50</td>\n",
       "      <td>47.0</td>\n",
       "      <td>1</td>\n",
       "      <td>0</td>\n",
       "      <td>66.0</td>\n",
       "    </tr>\n",
       "    <tr>\n",
       "      <th>3</th>\n",
       "      <td>3</td>\n",
       "      <td>1</td>\n",
       "      <td>33.369975</td>\n",
       "      <td>-7.587912</td>\n",
       "      <td>34.229627</td>\n",
       "      <td>-6.528318</td>\n",
       "      <td>136.873942</td>\n",
       "      <td>11:50</td>\n",
       "      <td>90.0</td>\n",
       "      <td>1</td>\n",
       "      <td>0</td>\n",
       "      <td>50.0</td>\n",
       "    </tr>\n",
       "    <tr>\n",
       "      <th>4</th>\n",
       "      <td>4</td>\n",
       "      <td>1</td>\n",
       "      <td>33.369975</td>\n",
       "      <td>-7.587912</td>\n",
       "      <td>34.229627</td>\n",
       "      <td>-6.528318</td>\n",
       "      <td>136.873942</td>\n",
       "      <td>16:50</td>\n",
       "      <td>47.0</td>\n",
       "      <td>1</td>\n",
       "      <td>0</td>\n",
       "      <td>66.0</td>\n",
       "    </tr>\n",
       "  </tbody>\n",
       "</table>\n",
       "</div>"
      ],
      "text/plain": [
       "   id  company   from_lat  from_lan     to_lat    to_lan    distance depart  \\\n",
       "0   0        1  33.369975 -7.587912  34.229627 -6.528318  136.873942  07:50   \n",
       "1   1        1  33.369975 -7.587912  34.229627 -6.528318  136.873942  07:50   \n",
       "2   2        1  33.369975 -7.587912  34.229627 -6.528318  136.873942  11:50   \n",
       "3   3        1  33.369975 -7.587912  34.229627 -6.528318  136.873942  11:50   \n",
       "4   4        1  33.369975 -7.587912  34.229627 -6.528318  136.873942  16:50   \n",
       "\n",
       "   duration  driver_sex  driver_age  price  \n",
       "0      47.0           1           0   66.0  \n",
       "1      90.0           1           0   50.0  \n",
       "2      47.0           1           0   66.0  \n",
       "3      90.0           1           0   50.0  \n",
       "4      47.0           1           0   66.0  "
      ]
     },
     "execution_count": 13,
     "metadata": {},
     "output_type": "execute_result"
    }
   ],
   "source": [
    "trips.head()"
   ]
  },
  {
   "cell_type": "code",
   "execution_count": 16,
   "metadata": {},
   "outputs": [],
   "source": [
    "def f(x):\n",
    "    x = int(x.split(\":\")[0])\n",
    "    if (x > 4) and (x <= 8):\n",
    "        return 1\n",
    "    elif (x > 8) and (x <= 12 ):\n",
    "        return 2\n",
    "    elif (x > 12) and (x <= 16):\n",
    "        return 3\n",
    "    elif (x > 16) and (x <= 20) :\n",
    "        return 4\n",
    "    elif (x > 20) and (x <= 24):\n",
    "        return 5\n",
    "    elif (x <= 4):\n",
    "        return 0\n",
    "def g(x):\n",
    "    if x == 'M':\n",
    "        return 1\n",
    "    return 2\n",
    "\n",
    "def h(x):\n",
    "    p = ['technician', 'other', 'writer', 'executive', 'administrator',\n",
    "       'student', 'lawyer', 'educator', 'scientist', 'entertainment',\n",
    "       'programmer', 'librarian', 'homemaker', 'artist', 'engineer',\n",
    "       'marketing', 'none', 'healthcare', 'retired', 'salesman', 'doctor']\n",
    "    for a,b in enumerate(p):\n",
    "        if x  == b:\n",
    "            return a\n",
    "\n",
    "def ff(x):\n",
    "    if x<30 :\n",
    "        return 0\n",
    "    elif x<60:\n",
    "        return 1\n",
    "    elif x<90:\n",
    "        return 2\n",
    "    else:\n",
    "        return 3 "
   ]
  },
  {
   "cell_type": "code",
   "execution_count": 17,
   "metadata": {},
   "outputs": [],
   "source": [
    "trips[\"session\"] = trips['depart'].apply(f)"
   ]
  },
  {
   "cell_type": "code",
   "execution_count": 18,
   "metadata": {},
   "outputs": [],
   "source": [
    "trips = trips.drop(axis=1,columns=['depart','id'])"
   ]
  },
  {
   "cell_type": "code",
   "execution_count": 19,
   "metadata": {},
   "outputs": [],
   "source": [
    "users['profition'] = users['profition'].apply(h)"
   ]
  },
  {
   "cell_type": "code",
   "execution_count": 20,
   "metadata": {},
   "outputs": [],
   "source": [
    "users['sex'] = users['sex'].apply(g)"
   ]
  },
  {
   "cell_type": "code",
   "execution_count": 21,
   "metadata": {},
   "outputs": [],
   "source": [
    "users = users.drop(axis=1,columns=['id'])"
   ]
  },
  {
   "cell_type": "code",
   "execution_count": 22,
   "metadata": {},
   "outputs": [],
   "source": [
    "rating = {}\n",
    "\n",
    "rating[\"00000\"] = 1\n",
    "rating[\"00001\"] = 0\n",
    "rating[\"00002\"] = 0\n",
    "rating[\"00003\"] = 0\n",
    "\n",
    "rating[\"00010\"] = 2\n",
    "rating[\"00011\"] = 1\n",
    "rating[\"00012\"] = 0\n",
    "rating[\"00013\"] = 0\n",
    "\n",
    "rating[\"00100\"] = 1\n",
    "rating[\"00101\"] = 0\n",
    "rating[\"00102\"] = 0\n",
    "rating[\"00103\"] = 0\n",
    "\n",
    "rating[\"00110\"] = 1\n",
    "rating[\"00111\"] = 1\n",
    "rating[\"00112\"] = 0\n",
    "rating[\"00113\"] = 0\n",
    "\n",
    "rating[\"01000\"] = 2\n",
    "rating[\"01001\"] = 1\n",
    "rating[\"01002\"] = 0\n",
    "rating[\"01003\"] = 0\n",
    "\n",
    "rating[\"01010\"] = 3\n",
    "rating[\"01011\"] = 2\n",
    "rating[\"01012\"] = 1\n",
    "rating[\"01013\"] = 0\n",
    "\n",
    "rating[\"01100\"] = 2\n",
    "rating[\"01101\"] = 1\n",
    "rating[\"01102\"] = 0\n",
    "rating[\"01103\"] = 0\n",
    "\n",
    "rating[\"01110\"] = 3\n",
    "rating[\"01111\"] = 2\n",
    "rating[\"01112\"] = 1\n",
    "rating[\"01113\"] = 0\n",
    "\n",
    "rating[\"02000\"] = 1\n",
    "rating[\"02001\"] = 0\n",
    "rating[\"02002\"] = 0\n",
    "rating[\"02003\"] = 0\n",
    "\n",
    "rating[\"02010\"] = 3\n",
    "rating[\"02011\"] = 2\n",
    "rating[\"02012\"] = 1\n",
    "rating[\"02013\"] = 0\n",
    "\n",
    "rating[\"02100\"] = 1\n",
    "rating[\"02101\"] = 0\n",
    "rating[\"02102\"] = 0\n",
    "rating[\"02103\"] = 0\n",
    "\n",
    "rating[\"02110\"] = 3\n",
    "rating[\"02111\"] = 2\n",
    "rating[\"02112\"] = 1\n",
    "rating[\"02113\"] = 0\n",
    "\n",
    "rating[\"10000\"] = 3\n",
    "rating[\"10001\"] = 2\n",
    "rating[\"10002\"] = 1\n",
    "rating[\"10003\"] = 0\n",
    "\n",
    "rating[\"10010\"] = 4\n",
    "rating[\"10011\"] = 3\n",
    "rating[\"10012\"] = 2\n",
    "rating[\"10013\"] = 1\n",
    "\n",
    "rating[\"10100\"] = 3\n",
    "rating[\"10101\"] = 2\n",
    "rating[\"10102\"] = 1\n",
    "rating[\"10103\"] = 0\n",
    "\n",
    "rating[\"10110\"] = 4\n",
    "rating[\"10111\"] = 3\n",
    "rating[\"10112\"] = 2\n",
    "rating[\"10113\"] = 1\n",
    "\n",
    "rating[\"11000\"] = 4\n",
    "rating[\"11001\"] = 3\n",
    "rating[\"11002\"] = 2\n",
    "rating[\"11003\"] = 1\n",
    "\n",
    "rating[\"11010\"] = 5\n",
    "rating[\"11011\"] = 4\n",
    "rating[\"11012\"] = 3\n",
    "rating[\"11013\"] = 2\n",
    "\n",
    "rating[\"11100\"] = 4\n",
    "rating[\"11101\"] = 3\n",
    "rating[\"11102\"] = 2\n",
    "rating[\"11103\"] = 1\n",
    "\n",
    "rating[\"11110\"] = 5\n",
    "rating[\"11111\"] = 4\n",
    "rating[\"11112\"] = 3\n",
    "rating[\"11113\"] = 2\n",
    "\n",
    "rating[\"12000\"] = 4\n",
    "rating[\"12001\"] = 3\n",
    "rating[\"12002\"] = 2\n",
    "rating[\"12003\"] = 1\n",
    "\n",
    "rating[\"12010\"] = 5\n",
    "rating[\"12011\"] = 4\n",
    "rating[\"12012\"] = 3\n",
    "rating[\"12013\"] = 2\n",
    "\n",
    "rating[\"12100\"] = 4\n",
    "rating[\"12101\"] = 3\n",
    "rating[\"12102\"] = 2\n",
    "rating[\"12103\"] = 1\n",
    "\n",
    "rating[\"12110\"] = 5\n",
    "rating[\"12111\"] = 4\n",
    "rating[\"12112\"] = 3\n",
    "rating[\"12113\"] = 2\n",
    "\n",
    "history['retard'] = history['retard'].apply(ff)\n"
   ]
  },
  {
   "cell_type": "code",
   "execution_count": 23,
   "metadata": {},
   "outputs": [],
   "source": [
    "rt = []\n",
    "for i in range(len(history)):\n",
    "    try :\n",
    "        rt.append([history['user_id'][i],history['trip_id'][i],rating[str(int(history['comfort'][i]))+str(int(history['speed'][i]))+str(int(history['trafic'][i]))+str(int(history['security'][i]))+str(history['retard'][i])]])\n",
    "    except :\n",
    "        pass"
   ]
  },
  {
   "cell_type": "code",
   "execution_count": 25,
   "metadata": {},
   "outputs": [
    {
     "name": "stdout",
     "output_type": "stream",
     "text": [
      "Index(['company', 'from_lat', 'from_lan', 'to_lat', 'to_lan', 'distance',\n",
      "       'duration', 'driver_sex', 'driver_age', 'price', 'session'],\n",
      "      dtype='object') Index(['age', 'sex', 'profition'], dtype='object')\n"
     ]
    }
   ],
   "source": [
    "print(trips.columns,users.columns)"
   ]
  },
  {
   "cell_type": "code",
   "execution_count": 26,
   "metadata": {},
   "outputs": [],
   "source": [
    "X = []\n",
    "trips = trips.to_numpy()\n",
    "users = users.to_numpy()\n",
    "for r in rt:\n",
    "    X.append(np.concatenate([trips[r[1]],users[r[0]-1]]))"
   ]
  },
  {
   "cell_type": "code",
   "execution_count": 41,
   "metadata": {},
   "outputs": [
    {
     "data": {
      "text/plain": [
       "array([3, 5, 3, ..., 4, 5, 5], dtype=int64)"
      ]
     },
     "execution_count": 41,
     "metadata": {},
     "output_type": "execute_result"
    }
   ],
   "source": [
    "rt[:,2]"
   ]
  },
  {
   "cell_type": "code",
   "execution_count": 47,
   "metadata": {},
   "outputs": [],
   "source": [
    "data.to_csv(\"dataset.csv\",sep=';',index = False)\n"
   ]
  },
  {
   "cell_type": "code",
   "execution_count": 4,
   "metadata": {},
   "outputs": [],
   "source": []
  },
  {
   "cell_type": "code",
   "execution_count": 58,
   "metadata": {},
   "outputs": [],
   "source": []
  },
  {
   "cell_type": "code",
   "execution_count": null,
   "metadata": {},
   "outputs": [],
   "source": []
  },
  {
   "cell_type": "code",
   "execution_count": 76,
   "metadata": {},
   "outputs": [],
   "source": []
  },
  {
   "cell_type": "code",
   "execution_count": 65,
   "metadata": {},
   "outputs": [],
   "source": []
  },
  {
   "cell_type": "code",
   "execution_count": null,
   "metadata": {},
   "outputs": [],
   "source": []
  },
  {
   "cell_type": "code",
   "execution_count": null,
   "metadata": {},
   "outputs": [],
   "source": []
  },
  {
   "cell_type": "code",
   "execution_count": null,
   "metadata": {},
   "outputs": [],
   "source": []
  },
  {
   "cell_type": "code",
   "execution_count": null,
   "metadata": {},
   "outputs": [],
   "source": []
  }
 ],
 "metadata": {
  "kernelspec": {
   "display_name": "Python 3",
   "language": "python",
   "name": "python3"
  },
  "language_info": {
   "codemirror_mode": {
    "name": "ipython",
    "version": 3
   },
   "file_extension": ".py",
   "mimetype": "text/x-python",
   "name": "python",
   "nbconvert_exporter": "python",
   "pygments_lexer": "ipython3",
   "version": "3.7.3"
  }
 },
 "nbformat": 4,
 "nbformat_minor": 2
}
