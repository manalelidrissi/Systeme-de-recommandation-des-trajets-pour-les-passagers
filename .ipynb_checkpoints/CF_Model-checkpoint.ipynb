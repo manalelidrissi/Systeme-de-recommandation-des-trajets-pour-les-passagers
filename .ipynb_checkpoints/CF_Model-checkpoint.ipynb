{
 "cells": [
  {
   "cell_type": "code",
   "execution_count": 1,
   "metadata": {},
   "outputs": [
    {
     "name": "stderr",
     "output_type": "stream",
     "text": [
      "Using TensorFlow backend.\n"
     ]
    }
   ],
   "source": [
    "from keras.models import Model\n",
    "from keras.callbacks import ModelCheckpoint\n",
    "from keras.layers import dot, concatenate, Embedding, Input, Flatten, Dropout, Dense\n",
    "import numpy as np\n",
    "from sklearn.metrics import mean_absolute_error\n",
    "import pandas as pd\n"
   ]
  },
  {
   "cell_type": "code",
   "execution_count": 5,
   "metadata": {},
   "outputs": [],
   "source": [
    "ratings = pd.read_csv('dataset_ids.csv', sep=';')\n",
    "# Create training set\n",
    "shuffled_ratings = ratings.sample(frac=1., random_state=100)\n",
    "# Shuffling users\n",
    "Users = shuffled_ratings['user_id'].values\n",
    "# Shuffling movies\n",
    "Trips = shuffled_ratings['trip_id'].values\n",
    "# Shuffling ratings\n",
    "Ratings = shuffled_ratings['rating'].values"
   ]
  },
  {
   "cell_type": "code",
   "execution_count": 6,
   "metadata": {},
   "outputs": [],
   "source": [
    "# Import Keras libraries\n",
    "from keras.callbacks import Callback, EarlyStopping, ModelCheckpoint\n",
    "# Import CF Model Architecture\n",
    "from CFModel import CFModel"
   ]
  },
  {
   "cell_type": "code",
   "execution_count": 7,
   "metadata": {},
   "outputs": [
    {
     "data": {
      "text/plain": [
       "943"
      ]
     },
     "execution_count": 7,
     "metadata": {},
     "output_type": "execute_result"
    }
   ],
   "source": [
    "# Define constants\n",
    "EMBEDDING_SIZE = 100 # The number of dimensional embeddings for movies and users\n",
    "TEST_USER = 300 # A random test user \n",
    "Users.max()\n"
   ]
  },
  {
   "cell_type": "code",
   "execution_count": 10,
   "metadata": {},
   "outputs": [],
   "source": [
    "user_id_input = Input(shape=[1], name='user')\n",
    "trip_id_input = Input(shape=[1], name='trip')\n",
    "\n",
    "user_embedding = Embedding(output_dim=EMBEDDING_SIZE, input_dim=Users.max() + 1,input_length=1,)(user_id_input)\n",
    "trip_embedding = Embedding(output_dim=EMBEDDING_SIZE, input_dim=Trips.max() + 1,input_length=1,)(trip_id_input)\n",
    "\n",
    "# reshape from shape: (batch_size, input_length, embedding_size)\n",
    "# to shape: (batch_size, input_length * embedding_size) which is\n",
    "# equal to shape: (batch_size, embedding_size)\n",
    "user_vecs = Flatten()(user_embedding)\n",
    "item_vecs = Flatten()(trip_embedding)\n",
    "\n",
    "# y = merge([user_vecs, item_vecs], mode='dot', output_shape=(1,))\n",
    "y = dot([user_vecs, item_vecs], axes=1)\n",
    "\n",
    "model = Model(inputs=[user_id_input, trip_id_input], outputs=[y])\n",
    "model.compile(optimizer='adam', loss='mse')"
   ]
  },
  {
   "cell_type": "code",
   "execution_count": null,
   "metadata": {},
   "outputs": [
    {
     "name": "stdout",
     "output_type": "stream",
     "text": [
      "WARNING:tensorflow:From C:\\Users\\MPSY\\Anaconda3\\lib\\site-packages\\tensorflow\\python\\ops\\math_ops.py:3066: to_int32 (from tensorflow.python.ops.math_ops) is deprecated and will be removed in a future version.\n",
      "Instructions for updating:\n",
      "Use tf.cast instead.\n",
      "Train on 848562 samples, validate on 94285 samples\n",
      "Epoch 1/15\n",
      "  5632/848562 [..............................] - ETA: 5:49:35 - loss: 3.2475"
     ]
    }
   ],
   "source": [
    "history = model.fit([Users, Trips], Ratings,batch_size=64, epochs=15, validation_split=0.1,shuffle=True)"
   ]
  },
  {
   "cell_type": "code",
   "execution_count": null,
   "metadata": {},
   "outputs": [],
   "source": []
  }
 ],
 "metadata": {
  "kernelspec": {
   "display_name": "Python 3",
   "language": "python",
   "name": "python3"
  },
  "language_info": {
   "codemirror_mode": {
    "name": "ipython",
    "version": 3
   },
   "file_extension": ".py",
   "mimetype": "text/x-python",
   "name": "python",
   "nbconvert_exporter": "python",
   "pygments_lexer": "ipython3",
   "version": "3.7.3"
  }
 },
 "nbformat": 4,
 "nbformat_minor": 2
}
