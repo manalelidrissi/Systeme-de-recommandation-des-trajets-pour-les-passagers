{
 "cells": [
  {
   "cell_type": "markdown",
   "metadata": {},
   "source": [
    "we wanna aggregate all datasets in one clean data set \n",
    "### columns are : \n",
    "company         : 1-ONCF,2-CTM,3-TAXI,4-Covoiturage\n",
    "\n",
    "from_lat        : latitude of the origine city\n",
    "\n",
    "from_lan        : langitude of the origine city\n",
    "\n",
    "to_lat          : latitude of the destination city\n",
    "\n",
    "to_lan          : langitude of the destination city\n",
    "\n",
    "distance        : distance between origin and destination\n",
    "\n",
    "duration        : traveling duration\n",
    "\n",
    "driver_sex      : driver sex 0 if unkown(for example train...)\n",
    "\n",
    "driver_age      : driver age 0 if unkown\n",
    "\n",
    "price           : travling cost\n"
   ]
  },
  {
   "cell_type": "code",
   "execution_count": 3,
   "metadata": {},
   "outputs": [],
   "source": [
    "import numpy as np\n",
    "import requests\n",
    "import json\n",
    "from math import sin, cos, sqrt, atan2, radians\n",
    "import pandas as pd\n",
    "import re\n",
    "import datetime\n",
    "from datetime import timedelta\n",
    "from sklearn.linear_model import LinearRegression"
   ]
  },
  {
   "cell_type": "code",
   "execution_count": 4,
   "metadata": {},
   "outputs": [],
   "source": [
    "def getLocationOfCity(city):\n",
    "    api_key = '966a766bb88e4cb5a5f78ffd9ec99208'\n",
    "    req = requests.get('https://api.opencagedata.com/geocode/v1/json?q='+city+'&key='+api_key)\n",
    "    js = json.loads(req.text)\n",
    "    rep = None\n",
    "    for res in js['results']:\n",
    "        if res['formatted'].split(',')[-1] == \" Morocco\":\n",
    "            rep = res['geometry'] \n",
    "            break\n",
    "    return rep"
   ]
  },
  {
   "cell_type": "code",
   "execution_count": 5,
   "metadata": {},
   "outputs": [],
   "source": [
    "def distance(locationA,locationB):\n",
    "    R = 6373.0\n",
    "\n",
    "    lat1 = radians(locationA['lat'])\n",
    "    lon1 = radians(locationA['lng'])\n",
    "    lat2 = radians(locationB['lat'])\n",
    "    lon2 = radians(locationB['lng'])\n",
    "\n",
    "    dlon = lon2 - lon1\n",
    "    dlat = lat2 - lat1\n",
    "\n",
    "    a = sin(dlat / 2)**2 + cos(lat1) * cos(lat2) * sin(dlon / 2)**2\n",
    "    c = 2 * atan2(sqrt(a), sqrt(1 - a))\n",
    "\n",
    "    distance = R * c\n",
    "    return distance"
   ]
  },
  {
   "cell_type": "code",
   "execution_count": 6,
   "metadata": {},
   "outputs": [],
   "source": [
    "oncfDF = pd.read_csv(\"oncfTrips.csv\",delimiter=\";\",encoding='utf-8')\n",
    "ctmDF = pd.read_csv(\"CTMTrips.csv\",delimiter=\";\",encoding='latin-1')\n",
    "covDF = pd.read_csv(\"COVTrips.csv\",delimiter=\";\",encoding='latin-1')"
   ]
  },
  {
   "cell_type": "code",
   "execution_count": 7,
   "metadata": {},
   "outputs": [],
   "source": [
    "cities = list(oncfDF['from'])\n",
    "cities.extend(list(oncfDF['to']))\n",
    "cities.extend(list(ctmDF['from']))\n",
    "cities.extend(list(ctmDF['to']))\n",
    "cities.extend(list(covDF['from']))\n",
    "cities.extend(list(covDF['to']))"
   ]
  },
  {
   "cell_type": "code",
   "execution_count": 8,
   "metadata": {},
   "outputs": [],
   "source": [
    "cities = list(set(cities))\n",
    "cities = [city.upper() for city in cities]\n",
    "cities = list(set(cities))"
   ]
  },
  {
   "cell_type": "code",
   "execution_count": 9,
   "metadata": {},
   "outputs": [],
   "source": [
    "locations = {}\n",
    "for city in cities:\n",
    "    locations[city] = getLocationOfCity(city)"
   ]
  },
  {
   "cell_type": "code",
   "execution_count": 10,
   "metadata": {},
   "outputs": [],
   "source": [
    "locations['SIDI SLIMANE MEDINA']={'lat': 34.2737827,'lng':-5.9806831}\n",
    "locations['KELAA  DES  SRAGHNAS']={'lat' :32.0510291,'lng':-7.4206207}\n",
    "locations['GUELMIMA']={'lat' :31.6844986,'lng':-4.979725}\n",
    "locations['AEROPORT MED V']={'lat' :33.3699749,'lng':-7.5879118}"
   ]
  },
  {
   "cell_type": "code",
   "execution_count": 11,
   "metadata": {},
   "outputs": [],
   "source": [
    "def duration(time1,time2):\n",
    "    FMT = '%H:%M'\n",
    "    H1 = time1.split(':')[0]\n",
    "    H2 = time2.split(':')[0]\n",
    "    date1 = datetime.datetime.strptime(time1,FMT)\n",
    "    date2 = datetime.datetime.strptime(time2,FMT) \n",
    "    if int(H2) < int(H1):\n",
    "        date2 += timedelta(days=1)\n",
    "    diff = date2 - date1\n",
    "    return diff.seconds / 60"
   ]
  },
  {
   "cell_type": "code",
   "execution_count": 12,
   "metadata": {},
   "outputs": [],
   "source": [
    "tfrom = oncfDF['from']\n",
    "tto = oncfDF['to']\n",
    "tdepart = oncfDF['depart_time']\n",
    "tarrival = oncfDF['arrival_time']\n",
    "tprice = oncfDF['price']\n",
    "data = []\n",
    "for i in range(len(tfrom)):\n",
    "    data.append([1,locations[tfrom[i].upper()]['lat'],locations[tfrom[i].upper()]['lng'],locations[tto[i].upper()]['lat'],locations[tto[i].upper()]['lng'],\n",
    "               distance(locations[tfrom[i].upper()],locations[tto[i].upper()]),\n",
    "               duration(tdepart[i],tarrival[i]),1,0,int(tprice[i][:-3])])\n",
    "    \n",
    "    "
   ]
  },
  {
   "cell_type": "code",
   "execution_count": 13,
   "metadata": {},
   "outputs": [],
   "source": [
    "tfrom = ctmDF['from']\n",
    "tto = ctmDF['to']\n",
    "tdepart = ctmDF['depart_time']\n",
    "tarrival = ctmDF['arrival_time']\n",
    "tprice = ctmDF['price']\n",
    "tprice.fillna((tprice.mean()), inplace=True)\n",
    "for i in range(len(tfrom)):\n",
    "    data.append([2,locations[tfrom[i].upper()]['lat'],locations[tfrom[i].upper()]['lng'],locations[tto[i].upper()]['lat'],locations[tto[i].upper()]['lng'],\n",
    "               distance(locations[tfrom[i].upper()],locations[tto[i].upper()]),\n",
    "               duration(tdepart[i],tarrival[i]),1,0,int(tprice[i])])"
   ]
  },
  {
   "cell_type": "code",
   "execution_count": 14,
   "metadata": {},
   "outputs": [
    {
     "data": {
      "text/plain": [
       "19139"
      ]
     },
     "execution_count": 14,
     "metadata": {},
     "output_type": "execute_result"
    }
   ],
   "source": [
    "len(data)"
   ]
  },
  {
   "cell_type": "code",
   "execution_count": 15,
   "metadata": {},
   "outputs": [],
   "source": [
    "tfrom = covDF['from']\n",
    "tto = covDF['to']\n",
    "tprice = covDF['price']\n",
    "\n",
    "for i in range(len(tfrom)):\n",
    "    data.append([3,locations[tfrom[i].upper()]['lat'],locations[tfrom[i].upper()]['lng'],locations[tto[i].upper()]['lat'],locations[tto[i].upper()]['lng'],\n",
    "               distance(locations[tfrom[i].upper()],locations[tto[i].upper()]),\n",
    "               duration(tdepart[i],tarrival[i]),1,0,int(tprice[i])])"
   ]
  },
  {
   "cell_type": "code",
   "execution_count": 18,
   "metadata": {},
   "outputs": [],
   "source": [
    "def durationFromLoc(locationA,locationB):\n",
    "    loc1 = str(locationA['lat']) + ';' + str(locationA['lng'])\n",
    "    loc2 = str(locationB['lat']) + ';' + str(locationB['lng'])\n",
    "   "
   ]
  },
  {
   "cell_type": "code",
   "execution_count": 22,
   "metadata": {},
   "outputs": [
    {
     "name": "stdout",
     "output_type": "stream",
     "text": [
      "{\n",
      "   \"destination_addresses\" : [],\n",
      "   \"error_message\" : \"You must enable Billing on the Google Cloud Project at https://console.cloud.google.com/project/_/billing/enable Learn more at https://developers.google.com/maps/gmp-get-started\",\n",
      "   \"origin_addresses\" : [],\n",
      "   \"rows\" : [],\n",
      "   \"status\" : \"REQUEST_DENIED\"\n",
      "}\n",
      "\n"
     ]
    },
    {
     "ename": "IndexError",
     "evalue": "list index out of range",
     "output_type": "error",
     "traceback": [
      "\u001b[1;31m---------------------------------------------------------------------------\u001b[0m",
      "\u001b[1;31mIndexError\u001b[0m                                Traceback (most recent call last)",
      "\u001b[1;32m<ipython-input-22-cc868effebc5>\u001b[0m in \u001b[0;36m<module>\u001b[1;34m\u001b[0m\n\u001b[1;32m----> 1\u001b[1;33m \u001b[0mdurationFromLoc\u001b[0m\u001b[1;33m(\u001b[0m\u001b[0mlocations\u001b[0m\u001b[1;33m[\u001b[0m\u001b[1;34m'MEKNES'\u001b[0m\u001b[1;33m]\u001b[0m\u001b[1;33m,\u001b[0m\u001b[0mlocations\u001b[0m\u001b[1;33m[\u001b[0m\u001b[1;34m'FES'\u001b[0m\u001b[1;33m]\u001b[0m\u001b[1;33m)\u001b[0m\u001b[1;33m\u001b[0m\u001b[1;33m\u001b[0m\u001b[0m\n\u001b[0m",
      "\u001b[1;32m<ipython-input-18-c7058c83dbad>\u001b[0m in \u001b[0;36mdurationFromLoc\u001b[1;34m(locationA, locationB)\u001b[0m\n\u001b[0;32m      7\u001b[0m     \u001b[0mjs\u001b[0m \u001b[1;33m=\u001b[0m \u001b[0mjson\u001b[0m\u001b[1;33m.\u001b[0m\u001b[0mloads\u001b[0m\u001b[1;33m(\u001b[0m\u001b[0mreq\u001b[0m\u001b[1;33m.\u001b[0m\u001b[0mtext\u001b[0m\u001b[1;33m)\u001b[0m\u001b[1;33m\u001b[0m\u001b[1;33m\u001b[0m\u001b[0m\n\u001b[0;32m      8\u001b[0m     \u001b[0mprint\u001b[0m\u001b[1;33m(\u001b[0m\u001b[0mreq\u001b[0m\u001b[1;33m.\u001b[0m\u001b[0mtext\u001b[0m\u001b[1;33m)\u001b[0m\u001b[1;33m\u001b[0m\u001b[1;33m\u001b[0m\u001b[0m\n\u001b[1;32m----> 9\u001b[1;33m     \u001b[1;32mreturn\u001b[0m \u001b[0mjs\u001b[0m\u001b[1;33m[\u001b[0m\u001b[1;34m'rows'\u001b[0m\u001b[1;33m]\u001b[0m\u001b[1;33m[\u001b[0m\u001b[1;36m0\u001b[0m\u001b[1;33m]\u001b[0m\u001b[1;33m[\u001b[0m\u001b[1;34m'elements'\u001b[0m\u001b[1;33m]\u001b[0m\u001b[1;33m[\u001b[0m\u001b[1;36m0\u001b[0m\u001b[1;33m]\u001b[0m\u001b[1;33m[\u001b[0m\u001b[1;34m'duration_in_traffic'\u001b[0m\u001b[1;33m]\u001b[0m\u001b[1;33m[\u001b[0m\u001b[1;34m'value'\u001b[0m\u001b[1;33m]\u001b[0m\u001b[1;33m/\u001b[0m\u001b[1;36m60\u001b[0m\u001b[1;33m\u001b[0m\u001b[1;33m\u001b[0m\u001b[0m\n\u001b[0m",
      "\u001b[1;31mIndexError\u001b[0m: list index out of range"
     ]
    }
   ],
   "source": [
    "durationFromLoc(locations['MEKNES'],locations['FES'])"
   ]
  },
  {
   "cell_type": "code",
   "execution_count": null,
   "metadata": {},
   "outputs": [],
   "source": []
  }
 ],
 "metadata": {
  "kernelspec": {
   "display_name": "Python 3",
   "language": "python",
   "name": "python3"
  },
  "language_info": {
   "codemirror_mode": {
    "name": "ipython",
    "version": 3
   },
   "file_extension": ".py",
   "mimetype": "text/x-python",
   "name": "python",
   "nbconvert_exporter": "python",
   "pygments_lexer": "ipython3",
   "version": "3.7.3"
  }
 },
 "nbformat": 4,
 "nbformat_minor": 2
}
